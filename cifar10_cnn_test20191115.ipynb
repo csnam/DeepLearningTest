{
  "nbformat": 4,
  "nbformat_minor": 0,
  "metadata": {
    "colab": {
      "name": "cifar10_cnn_test201910.ipynb",
      "provenance": [],
      "include_colab_link": true
    },
    "kernelspec": {
      "name": "python3",
      "display_name": "Python 3"
    }
  },
  "cells": [
    {
      "cell_type": "markdown",
      "metadata": {
        "id": "view-in-github",
        "colab_type": "text"
      },
      "source": [
        "<a href=\"https://colab.research.google.com/github/csnam/DeepLearningTest/blob/master/cifar10_cnn_test20191115.ipynb\" target=\"_parent\"><img src=\"https://colab.research.google.com/assets/colab-badge.svg\" alt=\"Open In Colab\"/></a>"
      ]
    },
    {
      "cell_type": "code",
      "metadata": {
        "id": "pLsiMxy8eRGb",
        "colab_type": "code",
        "colab": {
          "base_uri": "https://localhost:8080/",
          "height": 1000
        },
        "outputId": "ba4eb681-e141-4c81-bce1-af75c1d007c7"
      },
      "source": [
        "import os\n",
        "os.environ['TF_CPP_MIN_LOG_LEVEL']='2'\n",
        "from keras import datasets\n",
        "from keras import layers, models\n",
        "from keras.utils import np_utils\n",
        "\n",
        "(x_train, y_train), (x_test, y_test) = datasets.cifar10.load_data()\n",
        "Y_train = np_utils.to_categorical(y_train)\n",
        "Y_test = np_utils.to_categorical(y_test)\n",
        "\n",
        "print(x_train.shape[1:])\n",
        "img_rows, img_cols, _ = x_train.shape[1:]\n",
        "\n",
        "X_train = x_train.reshape(x_train.shape[0], img_rows, img_cols, 3)\n",
        "X_test = x_test.reshape(x_test.shape[0], img_rows, img_cols, 3)\n",
        "input_shape = (img_rows, img_cols, 3)\n",
        "\n",
        "X_train = X_train.astype('float32')\n",
        "X_test = X_test.astype('float32')\n",
        "X_train /= 255\n",
        "X_test /= 255\n",
        "print(Y_train[0])\n",
        "num_classes = 10\n",
        "batch_size = 32\n",
        "print(input_shape)\n",
        "\n",
        "x = layers.Input(shape=input_shape,  name='input')\n",
        "h = layers.Conv2D(32, kernel_size=(3, 3), activation='relu',  name='conv1')(x)\n",
        "h = layers.Dropout(0.2)(h)\n",
        "h = layers.Conv2D(32, kernel_size=(3, 3), activation='relu', padding='same', name='conv2')(h)\n",
        "h = layers.MaxPooling2D(pool_size=(2, 2), name='pool1')(h)\n",
        "h = layers.Conv2D(64, kernel_size=(3, 3), activation='relu', padding='same', name='conv3')(h)\n",
        "h = layers.MaxPooling2D(pool_size=(2, 2), name='pool2')(h)\n",
        "h = layers.Flatten()(h)\n",
        "h = layers.Dropout(0.2)(h)\n",
        "h = layers.Dense(512, activation='relu', name='poolhidden')(h)\n",
        "h = layers.Dropout(0.2)(h)\n",
        "y = layers.Dense(num_classes, activation='softmax', name='output')(h)\n",
        "\n",
        "model = models.Model(x, y)\n",
        "print(model.summary())\n",
        "epochs = 25\n",
        "model.compile(loss='categorical_crossentropy', optimizer='adam', metrics=['accuracy'])\n",
        "history = model.fit(X_train, Y_train, batch_size=batch_size,\n",
        "          epochs=epochs, validation_split=0.1, verbose=2)\n",
        "\n",
        "model.save('Cifar10_CNN_74.h5')\n",
        "score = model.evaluate(X_test, Y_test)\n",
        "print()\n",
        "print('Test loss:', score[0])\n",
        "print('Test accuracy:', score[1])\n"
      ],
      "execution_count": 2,
      "outputs": [
        {
          "output_type": "stream",
          "text": [
            "Using TensorFlow backend.\n"
          ],
          "name": "stderr"
        },
        {
          "output_type": "stream",
          "text": [
            "Downloading data from https://www.cs.toronto.edu/~kriz/cifar-10-python.tar.gz\n",
            "170500096/170498071 [==============================] - 4s 0us/step\n",
            "(32, 32, 3)\n",
            "[0. 0. 0. 0. 0. 0. 1. 0. 0. 0.]\n",
            "(32, 32, 3)\n",
            "WARNING:tensorflow:From /usr/local/lib/python3.6/dist-packages/keras/backend/tensorflow_backend.py:541: The name tf.placeholder is deprecated. Please use tf.compat.v1.placeholder instead.\n",
            "\n",
            "WARNING:tensorflow:From /usr/local/lib/python3.6/dist-packages/keras/backend/tensorflow_backend.py:4432: The name tf.random_uniform is deprecated. Please use tf.random.uniform instead.\n",
            "\n",
            "WARNING:tensorflow:From /usr/local/lib/python3.6/dist-packages/keras/backend/tensorflow_backend.py:66: The name tf.get_default_graph is deprecated. Please use tf.compat.v1.get_default_graph instead.\n",
            "\n",
            "WARNING:tensorflow:From /usr/local/lib/python3.6/dist-packages/keras/backend/tensorflow_backend.py:148: The name tf.placeholder_with_default is deprecated. Please use tf.compat.v1.placeholder_with_default instead.\n",
            "\n",
            "WARNING:tensorflow:From /usr/local/lib/python3.6/dist-packages/keras/backend/tensorflow_backend.py:3733: calling dropout (from tensorflow.python.ops.nn_ops) with keep_prob is deprecated and will be removed in a future version.\n",
            "Instructions for updating:\n",
            "Please use `rate` instead of `keep_prob`. Rate should be set to `rate = 1 - keep_prob`.\n",
            "WARNING:tensorflow:From /usr/local/lib/python3.6/dist-packages/keras/backend/tensorflow_backend.py:4267: The name tf.nn.max_pool is deprecated. Please use tf.nn.max_pool2d instead.\n",
            "\n",
            "Model: \"model_1\"\n",
            "_________________________________________________________________\n",
            "Layer (type)                 Output Shape              Param #   \n",
            "=================================================================\n",
            "input (InputLayer)           (None, 32, 32, 3)         0         \n",
            "_________________________________________________________________\n",
            "conv1 (Conv2D)               (None, 30, 30, 32)        896       \n",
            "_________________________________________________________________\n",
            "dropout_1 (Dropout)          (None, 30, 30, 32)        0         \n",
            "_________________________________________________________________\n",
            "conv2 (Conv2D)               (None, 30, 30, 32)        9248      \n",
            "_________________________________________________________________\n",
            "pool1 (MaxPooling2D)         (None, 15, 15, 32)        0         \n",
            "_________________________________________________________________\n",
            "conv3 (Conv2D)               (None, 15, 15, 64)        18496     \n",
            "_________________________________________________________________\n",
            "pool2 (MaxPooling2D)         (None, 7, 7, 64)          0         \n",
            "_________________________________________________________________\n",
            "flatten_1 (Flatten)          (None, 3136)              0         \n",
            "_________________________________________________________________\n",
            "dropout_2 (Dropout)          (None, 3136)              0         \n",
            "_________________________________________________________________\n",
            "poolhidden (Dense)           (None, 512)               1606144   \n",
            "_________________________________________________________________\n",
            "dropout_3 (Dropout)          (None, 512)               0         \n",
            "_________________________________________________________________\n",
            "output (Dense)               (None, 10)                5130      \n",
            "=================================================================\n",
            "Total params: 1,639,914\n",
            "Trainable params: 1,639,914\n",
            "Non-trainable params: 0\n",
            "_________________________________________________________________\n",
            "None\n",
            "WARNING:tensorflow:From /usr/local/lib/python3.6/dist-packages/keras/optimizers.py:793: The name tf.train.Optimizer is deprecated. Please use tf.compat.v1.train.Optimizer instead.\n",
            "\n",
            "WARNING:tensorflow:From /usr/local/lib/python3.6/dist-packages/keras/backend/tensorflow_backend.py:3576: The name tf.log is deprecated. Please use tf.math.log instead.\n",
            "\n",
            "WARNING:tensorflow:From /usr/local/lib/python3.6/dist-packages/tensorflow_core/python/ops/math_grad.py:1424: where (from tensorflow.python.ops.array_ops) is deprecated and will be removed in a future version.\n",
            "Instructions for updating:\n",
            "Use tf.where in 2.0, which has the same broadcast rule as np.where\n",
            "WARNING:tensorflow:From /usr/local/lib/python3.6/dist-packages/keras/backend/tensorflow_backend.py:1033: The name tf.assign_add is deprecated. Please use tf.compat.v1.assign_add instead.\n",
            "\n",
            "WARNING:tensorflow:From /usr/local/lib/python3.6/dist-packages/keras/backend/tensorflow_backend.py:1020: The name tf.assign is deprecated. Please use tf.compat.v1.assign instead.\n",
            "\n",
            "WARNING:tensorflow:From /usr/local/lib/python3.6/dist-packages/keras/backend/tensorflow_backend.py:3005: The name tf.Session is deprecated. Please use tf.compat.v1.Session instead.\n",
            "\n",
            "Train on 45000 samples, validate on 5000 samples\n",
            "Epoch 1/25\n",
            "WARNING:tensorflow:From /usr/local/lib/python3.6/dist-packages/keras/backend/tensorflow_backend.py:190: The name tf.get_default_session is deprecated. Please use tf.compat.v1.get_default_session instead.\n",
            "\n",
            "WARNING:tensorflow:From /usr/local/lib/python3.6/dist-packages/keras/backend/tensorflow_backend.py:197: The name tf.ConfigProto is deprecated. Please use tf.compat.v1.ConfigProto instead.\n",
            "\n",
            "WARNING:tensorflow:From /usr/local/lib/python3.6/dist-packages/keras/backend/tensorflow_backend.py:207: The name tf.global_variables is deprecated. Please use tf.compat.v1.global_variables instead.\n",
            "\n",
            "WARNING:tensorflow:From /usr/local/lib/python3.6/dist-packages/keras/backend/tensorflow_backend.py:216: The name tf.is_variable_initialized is deprecated. Please use tf.compat.v1.is_variable_initialized instead.\n",
            "\n",
            "WARNING:tensorflow:From /usr/local/lib/python3.6/dist-packages/keras/backend/tensorflow_backend.py:223: The name tf.variables_initializer is deprecated. Please use tf.compat.v1.variables_initializer instead.\n",
            "\n",
            " - 198s - loss: 1.3874 - acc: 0.5038 - val_loss: 1.0392 - val_acc: 0.6280\n",
            "Epoch 2/25\n",
            " - 196s - loss: 0.9693 - acc: 0.6597 - val_loss: 0.8231 - val_acc: 0.7170\n",
            "Epoch 3/25\n",
            " - 197s - loss: 0.8035 - acc: 0.7178 - val_loss: 0.7587 - val_acc: 0.7412\n",
            "Epoch 4/25\n",
            " - 198s - loss: 0.6824 - acc: 0.7620 - val_loss: 0.7422 - val_acc: 0.7436\n",
            "Epoch 5/25\n",
            " - 198s - loss: 0.5837 - acc: 0.7952 - val_loss: 0.7167 - val_acc: 0.7610\n",
            "Epoch 6/25\n",
            " - 203s - loss: 0.4977 - acc: 0.8250 - val_loss: 0.7350 - val_acc: 0.7568\n",
            "Epoch 7/25\n",
            " - 203s - loss: 0.4249 - acc: 0.8490 - val_loss: 0.7433 - val_acc: 0.7680\n",
            "Epoch 8/25\n",
            " - 202s - loss: 0.3646 - acc: 0.8708 - val_loss: 0.8018 - val_acc: 0.7602\n",
            "Epoch 9/25\n",
            " - 203s - loss: 0.3232 - acc: 0.8857 - val_loss: 0.7860 - val_acc: 0.7670\n",
            "Epoch 10/25\n",
            " - 202s - loss: 0.2904 - acc: 0.8962 - val_loss: 0.7973 - val_acc: 0.7634\n",
            "Epoch 11/25\n",
            " - 202s - loss: 0.2649 - acc: 0.9080 - val_loss: 0.8292 - val_acc: 0.7668\n",
            "Epoch 12/25\n",
            " - 202s - loss: 0.2423 - acc: 0.9155 - val_loss: 0.8333 - val_acc: 0.7694\n",
            "Epoch 13/25\n",
            " - 201s - loss: 0.2219 - acc: 0.9209 - val_loss: 0.9276 - val_acc: 0.7660\n",
            "Epoch 14/25\n",
            " - 202s - loss: 0.2166 - acc: 0.9248 - val_loss: 0.9282 - val_acc: 0.7626\n",
            "Epoch 15/25\n",
            " - 202s - loss: 0.1934 - acc: 0.9324 - val_loss: 0.9865 - val_acc: 0.7492\n",
            "Epoch 16/25\n",
            " - 202s - loss: 0.1901 - acc: 0.9351 - val_loss: 0.9912 - val_acc: 0.7646\n",
            "Epoch 17/25\n",
            " - 201s - loss: 0.1830 - acc: 0.9381 - val_loss: 0.9886 - val_acc: 0.7584\n",
            "Epoch 18/25\n",
            " - 201s - loss: 0.1764 - acc: 0.9409 - val_loss: 1.0262 - val_acc: 0.7608\n",
            "Epoch 19/25\n",
            " - 200s - loss: 0.1733 - acc: 0.9418 - val_loss: 1.0100 - val_acc: 0.7676\n",
            "Epoch 20/25\n",
            " - 201s - loss: 0.1632 - acc: 0.9442 - val_loss: 0.9878 - val_acc: 0.7674\n",
            "Epoch 21/25\n",
            " - 202s - loss: 0.1578 - acc: 0.9466 - val_loss: 1.0469 - val_acc: 0.7764\n",
            "Epoch 22/25\n",
            " - 202s - loss: 0.1573 - acc: 0.9482 - val_loss: 1.1407 - val_acc: 0.7534\n",
            "Epoch 23/25\n",
            " - 202s - loss: 0.1589 - acc: 0.9472 - val_loss: 1.0231 - val_acc: 0.7670\n",
            "Epoch 24/25\n",
            " - 204s - loss: 0.1447 - acc: 0.9516 - val_loss: 1.0977 - val_acc: 0.7630\n",
            "Epoch 25/25\n",
            " - 203s - loss: 0.1497 - acc: 0.9516 - val_loss: 1.0329 - val_acc: 0.7612\n",
            "10000/10000 [==============================] - 10s 952us/step\n",
            "\n",
            "Test loss: 1.0793997002124787\n",
            "Test accuracy: 0.7481\n"
          ],
          "name": "stdout"
        }
      ]
    },
    {
      "cell_type": "code",
      "metadata": {
        "id": "4tx-0JUWgOQX",
        "colab_type": "code",
        "colab": {
          "base_uri": "https://localhost:8080/",
          "height": 80
        },
        "outputId": "adfaed57-1476-49ad-a860-ccee3da7bf7a"
      },
      "source": [
        "import tensorflow as tf\n",
        "tf.VERSION"
      ],
      "execution_count": 1,
      "outputs": [
        {
          "output_type": "display_data",
          "data": {
            "text/html": [
              "<p style=\"color: red;\">\n",
              "The default version of TensorFlow in Colab will soon switch to TensorFlow 2.x.<br>\n",
              "We recommend you <a href=\"https://www.tensorflow.org/guide/migrate\" target=\"_blank\">upgrade</a> now \n",
              "or ensure your notebook will continue to use TensorFlow 1.x via the <code>%tensorflow_version 1.x</code> magic:\n",
              "<a href=\"https://colab.research.google.com/notebooks/tensorflow_version.ipynb\" target=\"_blank\">more info</a>.</p>\n"
            ],
            "text/plain": [
              "<IPython.core.display.HTML object>"
            ]
          },
          "metadata": {
            "tags": []
          }
        },
        {
          "output_type": "execute_result",
          "data": {
            "text/plain": [
              "'1.15.0'"
            ]
          },
          "metadata": {
            "tags": []
          },
          "execution_count": 1
        }
      ]
    },
    {
      "cell_type": "code",
      "metadata": {
        "id": "2aEhfkpyghEH",
        "colab_type": "code",
        "colab": {}
      },
      "source": [
        ""
      ],
      "execution_count": 0,
      "outputs": []
    }
  ]
}